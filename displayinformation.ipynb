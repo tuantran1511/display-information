{
 "cells": [
  {
   "cell_type": "code",
   "execution_count": 5,
   "id": "70d1f5d0",
   "metadata": {},
   "outputs": [
    {
     "name": "stdout",
     "output_type": "stream",
     "text": [
      "Họ và tên : Trần Viết Tuấn\n",
      " Ngày sinh : 15/11/1994\n"
     ]
    }
   ],
   "source": [
    "print(\"Họ và tên : Trần Viết Tuấn\")\n",
    "print(\" Ngày sinh : 15/11/1994\")"
   ]
  }
 ],
 "metadata": {
  "kernelspec": {
   "display_name": "Python 3 (ipykernel)",
   "language": "python",
   "name": "python3"
  },
  "language_info": {
   "codemirror_mode": {
    "name": "ipython",
    "version": 3
   },
   "file_extension": ".py",
   "mimetype": "text/x-python",
   "name": "python",
   "nbconvert_exporter": "python",
   "pygments_lexer": "ipython3",
   "version": "3.10.4"
  }
 },
 "nbformat": 4,
 "nbformat_minor": 5
}
